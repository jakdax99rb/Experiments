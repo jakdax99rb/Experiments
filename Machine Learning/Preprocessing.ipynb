{
 "cells": [
  {
   "cell_type": "markdown",
   "metadata": {},
   "source": [
    "# Loading Android Data Set"
   ]
  },
  {
   "cell_type": "code",
   "execution_count": 1,
   "metadata": {},
   "outputs": [],
   "source": [
    "import numpy as np\n",
    "import seaborn as sns\n",
    "import pandas as pd\n",
    "import matplotlib\n",
    "import scipy\n",
    "\n",
    "\n",
    "android = pd.read_csv('Baird_original.csv', index_col = 0)"
   ]
  },
  {
   "cell_type": "markdown",
   "metadata": {},
   "source": [
    "# Data Quality Report Generation"
   ]
  },
  {
   "cell_type": "code",
   "execution_count": 2,
   "metadata": {},
   "outputs": [
    {
     "name": "stdout",
     "output_type": "stream",
     "text": [
      "Category\n",
      "Count:  10840\n",
      "Missing %:  0.0\n",
      "Card. :  33\n",
      "Mode:  FAMILY\n",
      "Mode Freq:  1972\n",
      "Mode %:  0.1819188191881919\n",
      "2nd Mode:  GAME\n",
      "2nd Mode Freq:  1144\n",
      "2nd Mode %:  0.1055350553505535 \n",
      "\n",
      "\n",
      "Rating\n",
      "Count:  9366\n",
      "Missing %:  0.15737774930600043\n",
      "Card. :  39\n",
      "Min:  1.0\n",
      "1st Quartile:  4.0\n",
      "Mean:  4.191757420456972\n",
      "Median:  4.3\n",
      "3rt Quartile:  4.5\n",
      "Max:  5.0\n",
      "Std Dev:  0.5152188586177886 \n",
      "\n",
      "\n",
      "Reviews\n",
      "Count:  10840\n",
      "Missing %:  0.0\n",
      "Card. :  6001\n",
      "Min:  0\n",
      "1st Quartile:  38.0\n",
      "Mean:  444152.89603321033\n",
      "Median:  2094.0\n",
      "3rt Quartile:  54775.5\n",
      "Max:  78158306\n",
      "Std Dev:  2927760.603885666 \n",
      "\n",
      "\n",
      "Size\n",
      "Count:  10840\n",
      "Missing %:  0.0\n",
      "Card. :  461\n",
      "Mode:  Varies with device\n",
      "Mode Freq:  1695\n",
      "Mode %:  0.15636531365313652\n",
      "2nd Mode:  11M\n",
      "2nd Mode Freq:  198\n",
      "2nd Mode %:  0.018265682656826567 \n",
      "\n",
      "\n",
      "Type\n",
      "Count:  10839\n",
      "Missing %:  9.225943352707814e-05\n",
      "Card. :  2\n",
      "Mode:  Free\n",
      "Mode Freq:  10039\n",
      "Mode %:  0.9261924531783375\n",
      "2nd Mode:  Paid\n",
      "2nd Mode Freq:  800\n",
      "2nd Mode %:  0.07380754682166252 \n",
      "\n",
      "\n",
      "Price\n",
      "Count:  10840\n",
      "Missing %:  0.0\n",
      "Card. :  92\n",
      "Mode:  0\n",
      "Mode Freq:  10040\n",
      "Mode %:  0.9261992619926199\n",
      "2nd Mode:  $0.99 \n",
      "2nd Mode Freq:  148\n",
      "2nd Mode %:  0.013653136531365314 \n",
      "\n",
      "\n",
      "Content Rating\n",
      "Count:  10840\n",
      "Missing %:  0.0\n",
      "Card. :  6\n",
      "Mode:  Everyone\n",
      "Mode Freq:  8714\n",
      "Mode %:  0.8038745387453875\n",
      "2nd Mode:  Teen\n",
      "2nd Mode Freq:  1208\n",
      "2nd Mode %:  0.11143911439114391 \n",
      "\n",
      "\n",
      "Genres\n",
      "Count:  10840\n",
      "Missing %:  0.0\n",
      "Card. :  119\n",
      "Mode:  Tools\n",
      "Mode Freq:  842\n",
      "Mode %:  0.07767527675276753\n",
      "2nd Mode:  Entertainment\n",
      "2nd Mode Freq:  623\n",
      "2nd Mode %:  0.05747232472324723 \n",
      "\n",
      "\n",
      "Last Updated\n",
      "Count:  10840\n",
      "Missing %:  0.0\n",
      "Card. :  1377\n",
      "Mode:  03-Aug-18\n",
      "Mode Freq:  326\n",
      "Mode %:  0.03007380073800738\n",
      "2nd Mode:  02-Aug-18\n",
      "2nd Mode Freq:  304\n",
      "2nd Mode %:  0.028044280442804426 \n",
      "\n",
      "\n",
      "Current Ver\n",
      "Count:  10832\n",
      "Missing %:  0.0007385524372230429\n",
      "Card. :  2783\n",
      "Mode:  Varies with device\n",
      "Mode Freq:  1459\n",
      "Mode %:  0.13469350073855244\n",
      "2nd Mode:  1\n",
      "2nd Mode Freq:  842\n",
      "2nd Mode %:  0.07773264401772526 \n",
      "\n",
      "\n",
      "Android Ver\n",
      "Count:  10838\n",
      "Missing %:  0.00018453589223103894\n",
      "Card. :  33\n",
      "Mode:  4.1 and up\n",
      "Mode Freq:  2451\n",
      "Mode %:  0.22614873592913823\n",
      "2nd Mode:  4.0.3 and up\n",
      "2nd Mode Freq:  1501\n",
      "2nd Mode %:  0.13849418711939473 \n",
      "\n",
      "\n",
      "Installs\n",
      "Count:  10840\n",
      "Missing %:  0.0\n",
      "Card. :  21\n",
      "Mode:  1,000,000+\n",
      "Mode Freq:  1579\n",
      "Mode %:  0.14566420664206642\n",
      "2nd Mode:  10,000,000+\n",
      "2nd Mode Freq:  1252\n",
      "2nd Mode %:  0.11549815498154982 \n",
      "\n",
      "\n"
     ]
    }
   ],
   "source": [
    "outputString = \"\"\n",
    "\n",
    "for feature in android:\n",
    "\n",
    "    print(android[feature].name)\n",
    "    print(\"Count: \", android[feature].count())\n",
    "    print(\"Missing %: \", android[feature].isna().sum() / android[feature].count())\n",
    "    print(\"Card. : \", android[feature].nunique())\n",
    "    \n",
    "    if not android[feature].dtype == 'object':\n",
    "        \n",
    "        quartiles = android[feature].quantile([0.25,0.75]).values\n",
    "        \n",
    "        print(\"Min: \", android[feature].min())\n",
    "        print(\"1st Quartile: \", quartiles[0])\n",
    "        print(\"Mean: \", android[feature].mean())\n",
    "        print(\"Median: \", android[feature].median())\n",
    "        print(\"3rt Quartile: \", quartiles[1])\n",
    "        print(\"Max: \", android[feature].max())\n",
    "        print(\"Std Dev: \", android[feature].std(), \"\\n\\n\")\n",
    "        \n",
    "    else:\n",
    "        \n",
    "        print(\"Mode: \", android[feature].mode()[0])\n",
    "        print(\"Mode Freq: \", android[feature].value_counts()[0])\n",
    "        print(\"Mode %: \", android[feature].value_counts()[0] / android[feature].count())\n",
    "        print(\"2nd Mode: \", android[feature].value_counts().axes[0][1])\n",
    "        print(\"2nd Mode Freq: \", android[feature].value_counts()[1])\n",
    "        print(\"2nd Mode %: \", android[feature].value_counts()[1] / android[feature].count() ,\"\\n\\n\")\n",
    "    \n",
    "    "
   ]
  },
  {
   "cell_type": "markdown",
   "metadata": {},
   "source": [
    "# Data Prep"
   ]
  },
  {
   "cell_type": "code",
   "execution_count": 3,
   "metadata": {},
   "outputs": [
    {
     "name": "stdout",
     "output_type": "stream",
     "text": [
      "<class 'pandas.core.frame.DataFrame'>\n",
      "Index: 9360 entries, Photo Editor & Candy Camera & Grid & ScrapBook to iHoroscope - 2018 Daily Horoscope & Astrology\n",
      "Data columns (total 12 columns):\n",
      " #   Column          Non-Null Count  Dtype  \n",
      "---  ------          --------------  -----  \n",
      " 0   Category        9360 non-null   object \n",
      " 1   Rating          9360 non-null   float64\n",
      " 2   Reviews         9360 non-null   int64  \n",
      " 3   Size            9360 non-null   float64\n",
      " 4   Type            9360 non-null   object \n",
      " 5   Price           9360 non-null   float64\n",
      " 6   Content Rating  9360 non-null   object \n",
      " 7   Genres          9360 non-null   object \n",
      " 8   Last Updated    9360 non-null   object \n",
      " 9   Current Ver     9360 non-null   object \n",
      " 10  Android Ver     9360 non-null   object \n",
      " 11  Installs        9360 non-null   int64  \n",
      "dtypes: float64(3), int64(2), object(7)\n",
      "memory usage: 658.1+ KB\n"
     ]
    }
   ],
   "source": [
    "android = android.dropna()\n",
    "\n",
    "if android.Price.dtype == 'object':\n",
    "    android.Price = [x.strip('$') for x in android.Price]\n",
    "\n",
    "if android.Installs.dtype == 'object':\n",
    "    android.Installs = [x.replace('+','') for x in android.Installs]\n",
    "    android.Installs = [x.replace(',','') for x in android.Installs]\n",
    "    z = 1\n",
    "    \n",
    "if android.Size.dtype == 'object':\n",
    "    android.Size = [x.replace('M','') for x in android.Size]\n",
    "    android.Size = [x.replace('Varies with device','1') for x in android.Size]\n",
    "    android.Size = [x.replace('k','') for x in android.Size]\n",
    "    \n",
    "   \n",
    "\n",
    "#Converts certain features from strings to numeric\n",
    "android['Reviews'] = pd.to_numeric(android['Reviews'])\n",
    "android['Price'] = pd.to_numeric(android['Price'])\n",
    "android['Installs'] = pd.to_numeric(android['Installs'])\n",
    "android['Size'] = pd.to_numeric(android['Size'])\n",
    "\n",
    "android = android.dropna()\n",
    "\n",
    "android.info()\n"
   ]
  },
  {
   "cell_type": "markdown",
   "metadata": {},
   "source": [
    "# Outlier management"
   ]
  },
  {
   "cell_type": "code",
   "execution_count": 4,
   "metadata": {},
   "outputs": [],
   "source": [
    "android = android[np.abs(android.Installs-android.Installs.mean()) <= (3*android.Installs.std())]\n",
    "android.Genres = [x.split(';')[0] for x in android.Genres]\n",
    "android['Genres'] = android['Genres'].replace('Educational', 'Education')\n",
    "android['Genres'] = android['Genres'].replace('Music & Audio', 'Music') \n",
    "android = android[np.abs(android.Price-android.Price.mean()) <= (3*android.Price.std())]"
   ]
  },
  {
   "cell_type": "markdown",
   "metadata": {},
   "source": [
    "# Class Mapping and more Outlier Management\n"
   ]
  },
  {
   "cell_type": "code",
   "execution_count": 5,
   "metadata": {},
   "outputs": [
    {
     "name": "stdout",
     "output_type": "stream",
     "text": [
      "<class 'pandas.core.frame.DataFrame'>\n",
      "Index: 9212 entries, Photo Editor & Candy Camera & Grid & ScrapBook to iHoroscope - 2018 Daily Horoscope & Astrology\n",
      "Data columns (total 12 columns):\n",
      " #   Column          Non-Null Count  Dtype  \n",
      "---  ------          --------------  -----  \n",
      " 0   Category        9212 non-null   int64  \n",
      " 1   Rating          9212 non-null   float64\n",
      " 2   Reviews         9212 non-null   int64  \n",
      " 3   Size            9212 non-null   float64\n",
      " 4   Type            9212 non-null   int64  \n",
      " 5   Price           9212 non-null   float64\n",
      " 6   Content Rating  9212 non-null   int64  \n",
      " 7   Genres          9212 non-null   int64  \n",
      " 8   Last Updated    9212 non-null   object \n",
      " 9   Current Ver     9212 non-null   object \n",
      " 10  Android Ver     9212 non-null   object \n",
      " 11  Installs        9212 non-null   int64  \n",
      "dtypes: float64(3), int64(6), object(3)\n",
      "memory usage: 791.7+ KB\n"
     ]
    }
   ],
   "source": [
    "class_mapping = {label:idx for idx, label in enumerate(np.unique(android['Type']))}\n",
    "android['Type'] = android['Type'].map(class_mapping)\n",
    "\n",
    "class_mapping = {label:idx for idx, label in enumerate(np.unique(android['Category']))}\n",
    "android['Category'] = android['Category'].map(class_mapping)\n",
    "\n",
    "class_mapping = {label:idx for idx, label in enumerate(np.unique(android['Content Rating']))}\n",
    "android['Content Rating'] = android['Content Rating'].map(class_mapping)\n",
    "\n",
    "class_mapping = {label:idx for idx, label in enumerate(np.unique(android['Genres']))}\n",
    "android['Genres'] = android['Genres'].map(class_mapping)\n",
    "\n",
    "android = android[np.abs(android.Category-android.Category.mean()) <= (3*android.Category.std())]\n",
    "android = android[np.abs(android['Content Rating']-android['Content Rating'].mean()) <= (3*android['Content Rating'].std())]\n",
    "android = android[np.abs(android.Genres-android.Genres.mean()) <= (3*android.Genres.std())]\n",
    "\n",
    "android.info()"
   ]
  },
  {
   "cell_type": "markdown",
   "metadata": {},
   "source": [
    "# Min Max Normalization"
   ]
  },
  {
   "cell_type": "code",
   "execution_count": 6,
   "metadata": {},
   "outputs": [],
   "source": [
    "from sklearn import preprocessing \n",
    "\n",
    "df = android[[\"Category\",\"Rating\",\"Reviews\",\"Size\",\"Type\",\"Price\",\"Content Rating\",\"Genres\",\"Installs\"]].copy()\n",
    "df = df.drop_duplicates()\n",
    "\n",
    "df_cols = df.columns[0:8]\n",
    "X = df[['Category','Rating','Reviews','Size','Type','Price','Content Rating','Genres']].values\n",
    "y = df[['Installs']].values\n",
    "\n",
    "min_max_scaler = preprocessing.MinMaxScaler()\n",
    "x_scaled = min_max_scaler.fit_transform(X)\n",
    "NormalizedDf = pd.DataFrame(x_scaled, columns = df_cols)\n",
    "NormalizedDf['Installs'] = df['Installs'].values\n",
    "\n",
    "NormalizedDf.head(10)\n",
    "\n",
    "df = NormalizedDf"
   ]
  },
  {
   "cell_type": "markdown",
   "metadata": {},
   "source": [
    "# Feature Selection"
   ]
  },
  {
   "cell_type": "code",
   "execution_count": 7,
   "metadata": {},
   "outputs": [
    {
     "name": "stdout",
     "output_type": "stream",
     "text": [
      "[  3.487  32.269 414.642   3.76   48.115  21.42   11.558   2.814]\n",
      "[[7.750e-01 3.519e-06 0.000e+00 0.000e+00]\n",
      " [7.250e-01 2.152e-05 0.000e+00 0.000e+00]\n",
      " [9.250e-01 1.949e-03 0.000e+00 0.000e+00]\n",
      " [8.750e-01 4.803e-03 0.000e+00 0.000e+00]\n",
      " [8.250e-01 2.152e-05 0.000e+00 0.000e+00]]\n"
     ]
    },
    {
     "name": "stderr",
     "output_type": "stream",
     "text": [
      "C:\\Users\\Jonathan\\AppData\\Local\\Programs\\Python\\Python38-32\\lib\\site-packages\\sklearn\\utils\\validation.py:760: DataConversionWarning: A column-vector y was passed when a 1d array was expected. Please change the shape of y to (n_samples, ), for example using ravel().\n",
      "  y = column_or_1d(y, warn=True)\n"
     ]
    }
   ],
   "source": [
    "from sklearn.feature_selection import SelectKBest\n",
    "from sklearn.feature_selection import f_classif\n",
    "from numpy import set_printoptions\n",
    "\n",
    "fX = df[['Category','Rating','Reviews','Size','Type','Price','Content Rating','Genres']].values\n",
    "fY = df[['Installs']].values\n",
    "\n",
    "test = SelectKBest(score_func=f_classif, k=4)\n",
    "fit = test.fit(fX, fY)\n",
    "\n",
    "\n",
    "set_printoptions(precision=3)\n",
    "print(fit.scores_)\n",
    "features = fit.transform(fX)\n",
    "\n",
    "\n",
    "print(features[0:5,:])"
   ]
  },
  {
   "cell_type": "markdown",
   "metadata": {},
   "source": [
    "# ABT Creation"
   ]
  },
  {
   "cell_type": "code",
   "execution_count": 8,
   "metadata": {},
   "outputs": [],
   "source": [
    "df.to_csv('Baird_pp.csv')"
   ]
  }
 ],
 "metadata": {
  "kernelspec": {
   "display_name": "Python 3.8.1 32-bit",
   "language": "python",
   "name": "python38132bit21327d67a2724b3baaea16a787757306"
  },
  "language_info": {
   "codemirror_mode": {
    "name": "ipython",
    "version": 3
   },
   "file_extension": ".py",
   "mimetype": "text/x-python",
   "name": "python",
   "nbconvert_exporter": "python",
   "pygments_lexer": "ipython3",
   "version": "3.8.1"
  }
 },
 "nbformat": 4,
 "nbformat_minor": 4
}
